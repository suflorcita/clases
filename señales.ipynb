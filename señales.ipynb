{
 "cells": [
  {
   "cell_type": "code",
   "execution_count": 7,
   "id": "forced-costume",
   "metadata": {},
   "outputs": [],
   "source": [
    "import numpy as np"
   ]
  },
  {
   "cell_type": "code",
   "execution_count": 8,
   "id": "heard-shepherd",
   "metadata": {},
   "outputs": [],
   "source": [
    "import matplotlib as plt"
   ]
  },
  {
   "cell_type": "markdown",
   "id": "veterinary-england",
   "metadata": {},
   "source": [
    "**Función escalón unitario**"
   ]
  },
  {
   "cell_type": "markdown",
   "id": "upper-cowboy",
   "metadata": {},
   "source": [
    "\\begin{equation}\n",
    "\\mu (t) =\n",
    "\\begin{cases}\n",
    "0 & \\text{si } t\\geq 0,\n",
    "\\\\\n",
    "1 & \\text{si } t > 0,\n",
    "\\end{cases}\n",
    "\\end{equation}\n",
    "\n"
   ]
  },
  {
   "cell_type": "code",
   "execution_count": 16,
   "id": "animal-adobe",
   "metadata": {},
   "outputs": [],
   "source": [
    "a = -10 # inicio\n",
    "b = 10 # final \n",
    "dt = 0.1 # paso  "
   ]
  },
  {
   "cell_type": "code",
   "execution_count": 17,
   "id": "flush-cycling",
   "metadata": {},
   "outputs": [],
   "source": [
    "t = np.arange(a, b, dt)"
   ]
  },
  {
   "cell_type": "code",
   "execution_count": 20,
   "id": "alone-drill",
   "metadata": {},
   "outputs": [],
   "source": [
    "u = np.piecewise(t,t>=0,[1,0])"
   ]
  },
  {
   "cell_type": "code",
   "execution_count": 32,
   "id": "interstate-concentrate",
   "metadata": {},
   "outputs": [
    {
     "data": {
      "image/png": "[encoded data removed]",
      "text/plain": [
       "<Figure size 432x288 with 1 Axes>"
      ]
     },
     "metadata": {
      "needs_background": "light"
     },
     "output_type": "display_data"
    }
   ],
   "source": [
    "plt.plot(t,u0)\n",
    "\n",
    "plt.title(\"Función escalón\")\n",
    "\n",
    "plt.xlabel('t')\n",
    "plt.ylabel('u(t)')\n",
    "\n",
    "plt.grid()\n",
    "plt.show()"
   ]
  },
  {
   "cell_type": "markdown",
   "id": "nominated-hayes",
   "metadata": {},
   "source": [
    "**Función delta de dirac**"
   ]
  },
  {
   "cell_type": "markdown",
   "id": "advisory-pocket",
   "metadata": {},
   "source": [
    "$$\\delta(t) =0,t≠0 $$\n",
    "\n",
    "$$\\int_{-\\infty}^{\\infty}  \\delta(t) dt = 1 $$\n"
   ]
  },
  {
   "cell_type": "code",
   "execution_count": 33,
   "id": "dangerous-scottish",
   "metadata": {},
   "outputs": [],
   "source": [
    "from scipy import signal"
   ]
  },
  {
   "cell_type": "code",
   "execution_count": 44,
   "id": "original-asbestos",
   "metadata": {},
   "outputs": [],
   "source": [
    "t = np.linspace(-10, 10, num=100)\n",
    "imp = signal.unit_impulse(100,'mid')"
   ]
  },
  {
   "cell_type": "code",
   "execution_count": 47,
   "id": "environmental-gibraltar",
   "metadata": {},
   "outputs": [
    {
     "data": {
      "image/png": "[encoded data removed]",
      "text/plain": [
       "<Figure size 432x288 with 1 Axes>"
      ]
     },
     "metadata": {
      "needs_background": "light"
     },
     "output_type": "display_data"
    }
   ],
   "source": [
    "plt.plot(t, imp)\n",
    "\n",
    "plt.title(\"Función Delta de Dirac\")\n",
    "\n",
    "plt.xlabel('t')\n",
    "plt.ylabel('δ(t)')\n",
    "\n",
    "plt.grid()\n",
    "plt.show()"
   ]
  },
  {
   "cell_type": "code",
   "execution_count": null,
   "id": "amazing-glass",
   "metadata": {},
   "outputs": [],
   "source": []
  }
 ],
 "metadata": {
  "kernelspec": {
   "display_name": "Python 3",
   "language": "python",
   "name": "python3"
  },
  "language_info": {
   "codemirror_mode": {
    "name": "ipython",
    "version": 3
   },
   "file_extension": ".py",
   "mimetype": "text/x-python",
   "name": "python",
   "nbconvert_exporter": "python",
   "pygments_lexer": "ipython3",
   "version": "3.8.5"
  }
 },
 "nbformat": 4,
 "nbformat_minor": 5
}

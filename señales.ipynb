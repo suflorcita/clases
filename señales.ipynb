{
 "cells": [
  {
   "cell_type": "code",
   "execution_count": 7,
   "id": "balanced-mountain",
   "metadata": {},
   "outputs": [],
   "source": [
    "import numpy as np"
   ]
  },
  {
   "cell_type": "code",
   "execution_count": 8,
   "id": "mounted-folder",
   "metadata": {},
   "outputs": [],
   "source": [
    "import matplotlib as plt"
   ]
  },
  {
   "cell_type": "markdown",
   "id": "civilian-system",
   "metadata": {},
   "source": [
    "**Función escalón unitario**"
   ]
  },
  {
   "cell_type": "markdown",
   "id": "configured-agriculture",
   "metadata": {},
   "source": [
    "\\begin{equation}\n",
    "\\mu (t) =\n",
    "\\begin{cases}\n",
    "0 & \\text{si } t\\geq 0,\n",
    "\\\\\n",
    "1 & \\text{si } t > 0,\n",
    "\\end{cases}\n",
    "\\end{equation}\n",
    "\n"
   ]
  },
  {
   "cell_type": "code",
   "execution_count": 16,
   "id": "otherwise-booth",
   "metadata": {},
   "outputs": [],
   "source": [
    "a = -10 # inicio\n",
    "b = 10 # final \n",
    "dt = 0.1 # paso  "
   ]
  },
  {
   "cell_type": "code",
   "execution_count": 17,
   "id": "skilled-active",
   "metadata": {},
   "outputs": [],
   "source": [
    "t = np.arange(a, b, dt)"
   ]
  },
  {
   "cell_type": "code",
   "execution_count": 20,
   "id": "killing-spouse",
   "metadata": {},
   "outputs": [],
   "source": [
    "u = np.piecewise(t,t>=0,[1,0])"
   ]
  },
  {
   "cell_type": "code",
   "execution_count": 32,
   "id": "sexual-monkey",
   "metadata": {},
   "outputs": [
    {
     "data": {
      "image/png": "[encoded data removed]",
      "text/plain": [
       "<Figure size 432x288 with 1 Axes>"
      ]
     },
     "metadata": {
      "needs_background": "light"
     },
     "output_type": "display_data"
    }
   ],
   "source": [
    "plt.plot(t,u0)\n",
    "\n",
    "plt.title(\"Función escalón\")\n",
    "\n",
    "plt.xlabel('t')\n",
    "plt.ylabel('u(t)')\n",
    "\n",
    "plt.grid()\n",
    "plt.show()"
   ]
  },
  {
   "cell_type": "code",
   "execution_count": null,
   "id": "cutting-compatibility",
   "metadata": {},
   "outputs": [],
   "source": []
  },
  {
   "cell_type": "code",
   "execution_count": null,
   "id": "dried-naples",
   "metadata": {},
   "outputs": [],
   "source": []
  },
  {
   "cell_type": "code",
   "execution_count": null,
   "id": "future-watch",
   "metadata": {},
   "outputs": [],
   "source": []
  }
 ],
 "metadata": {
  "kernelspec": {
   "display_name": "Python 3",
   "language": "python",
   "name": "python3"
  },
  "language_info": {
   "codemirror_mode": {
    "name": "ipython",
    "version": 3
   },
   "file_extension": ".py",
   "mimetype": "text/x-python",
   "name": "python",
   "nbconvert_exporter": "python",
   "pygments_lexer": "ipython3",
   "version": "3.8.5"
  }
 },
 "nbformat": 4,
 "nbformat_minor": 5
}

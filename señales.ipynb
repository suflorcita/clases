{
 "cells": [
  {
   "cell_type": "code",
   "execution_count": 3,
   "id": "active-morris",
   "metadata": {},
   "outputs": [],
   "source": [
    "import numpy as np"
   ]
  },
  {
   "cell_type": "code",
   "execution_count": 39,
   "id": "dominant-category",
   "metadata": {},
   "outputs": [],
   "source": [
    "import matplotlib.pyplot as plt"
   ]
  },
  {
   "cell_type": "markdown",
   "id": "expired-driver",
   "metadata": {},
   "source": [
    "**Función escalón unitario**"
   ]
  },
  {
   "cell_type": "markdown",
   "id": "interstate-chinese",
   "metadata": {},
   "source": [
    "\\begin{equation}\n",
    "\\mu (t) =\n",
    "\\begin{cases}\n",
    "0 & \\text{si   } t\\geq 0,\n",
    "\\\\\n",
    "1 & \\text{si   } t > 0,\n",
    "\\end{cases}\n",
    "\\end{equation}\n",
    "\n"
   ]
  },
  {
   "cell_type": "code",
   "execution_count": 16,
   "id": "continent-aurora",
   "metadata": {},
   "outputs": [],
   "source": [
    "a = -10 # inicio\n",
    "b = 10 # final \n",
    "dt = 0.1 # paso  "
   ]
  },
  {
   "cell_type": "code",
   "execution_count": 17,
   "id": "accessible-jurisdiction",
   "metadata": {},
   "outputs": [],
   "source": [
    "t = np.arange(a, b, dt)"
   ]
  },
  {
   "cell_type": "code",
   "execution_count": 20,
   "id": "floral-chest",
   "metadata": {},
   "outputs": [],
   "source": [
    "u = np.piecewise(t,t>=0,[1,0])"
   ]
  },
  {
   "cell_type": "code",
   "execution_count": 32,
   "id": "further-harvest",
   "metadata": {},
   "outputs": [
    {
     "data": {
      "image/png": "[encoded data removed]",
      "text/plain": [
       "<Figure size 432x288 with 1 Axes>"
      ]
     },
     "metadata": {
      "needs_background": "light"
     },
     "output_type": "display_data"
    }
   ],
   "source": [
    "plt.plot(t,u0)\n",
    "\n",
    "plt.title(\"Función escalón\")\n",
    "\n",
    "plt.xlabel('t')\n",
    "plt.ylabel('u(t)')\n",
    "\n",
    "plt.grid()\n",
    "plt.show()"
   ]
  },
  {
   "cell_type": "markdown",
   "id": "helpful-yukon",
   "metadata": {},
   "source": [
    "**Función delta de dirac**"
   ]
  },
  {
   "cell_type": "markdown",
   "id": "sunrise-upper",
   "metadata": {},
   "source": [
    "$$\\delta(t) =0,t≠0 $$\n",
    "\n",
    "$$\\int_{-\\infty}^{\\infty}  \\delta(t) dt = 1 $$\n"
   ]
  },
  {
   "cell_type": "code",
   "execution_count": 33,
   "id": "mobile-hands",
   "metadata": {},
   "outputs": [],
   "source": [
    "from scipy import signal"
   ]
  },
  {
   "cell_type": "code",
   "execution_count": 44,
   "id": "legislative-julian",
   "metadata": {},
   "outputs": [],
   "source": [
    "t = np.linspace(-10, 10, num=100) # 100 numeros entre -10 y 10\n",
    "imp = signal.unit_impulse(100,'mid') #hace el impulso a la mitad de los 100 numeros  "
   ]
  },
  {
   "cell_type": "code",
   "execution_count": 47,
   "id": "practical-implementation",
   "metadata": {},
   "outputs": [
    {
     "data": {
      "image/png": "[encoded data removed]",
      "text/plain": [
       "<Figure size 432x288 with 1 Axes>"
      ]
     },
     "metadata": {
      "needs_background": "light"
     },
     "output_type": "display_data"
    }
   ],
   "source": [
    "plt.plot(t, imp)\n",
    "\n",
    "plt.title(\"Función Delta de Dirac\")\n",
    "\n",
    "plt.xlabel('t')\n",
    "plt.ylabel('δ(t)')\n",
    "\n",
    "plt.grid()\n",
    "plt.show()"
   ]
  },
  {
   "cell_type": "markdown",
   "id": "extra-roman",
   "metadata": {},
   "source": [
    "**Integrando con sympy**"
   ]
  },
  {
   "cell_type": "code",
   "execution_count": 1,
   "id": "short-camcorder",
   "metadata": {},
   "outputs": [],
   "source": [
    "from sympy import *"
   ]
  },
  {
   "cell_type": "code",
   "execution_count": 6,
   "id": "posted-creation",
   "metadata": {},
   "outputs": [],
   "source": [
    "x = Symbol(\"x\")"
   ]
  },
  {
   "cell_type": "code",
   "execution_count": 7,
   "id": "broken-stable",
   "metadata": {},
   "outputs": [
    {
     "data": {
      "text/latex": [
       "$\\displaystyle - \\cos{\\left(x \\right)}$"
      ],
      "text/plain": [
       "-cos(x)"
      ]
     },
     "execution_count": 7,
     "metadata": {},
     "output_type": "execute_result"
    }
   ],
   "source": [
    "integrate(sin(x), x)"
   ]
  },
  {
   "cell_type": "markdown",
   "id": "e3567d81",
   "metadata": {},
   "source": [
    "### Complejos "
   ]
  },
  {
   "cell_type": "code",
   "execution_count": 12,
   "id": "203ae5ed",
   "metadata": {},
   "outputs": [],
   "source": [
    "import cmath"
   ]
  },
  {
   "cell_type": "code",
   "execution_count": 10,
   "id": "270c6dea",
   "metadata": {},
   "outputs": [
    {
     "data": {
      "text/plain": [
       "-0.4636476090008061"
      ]
     },
     "execution_count": 10,
     "metadata": {},
     "output_type": "execute_result"
    }
   ],
   "source": [
    "cmath.phase(complex(1, -0.5))"
   ]
  },
  {
   "cell_type": "code",
   "execution_count": 17,
   "id": "6965c138",
   "metadata": {},
   "outputs": [
    {
     "data": {
      "text/plain": [
       "(1.118033988749895, -0.4636476090008061)"
      ]
     },
     "execution_count": 17,
     "metadata": {},
     "output_type": "execute_result"
    }
   ],
   "source": [
    "cmath.polar(complex(1, -0.5))"
   ]
  },
  {
   "cell_type": "code",
   "execution_count": 13,
   "id": "a14b4083",
   "metadata": {},
   "outputs": [
    {
     "data": {
      "text/plain": [
       "0.4636476090008061"
      ]
     },
     "execution_count": 13,
     "metadata": {},
     "output_type": "execute_result"
    }
   ],
   "source": [
    "cmath.phase(complex(1, 0.5))"
   ]
  },
  {
   "cell_type": "code",
   "execution_count": 18,
   "id": "6d29e1ad",
   "metadata": {},
   "outputs": [
    {
     "data": {
      "text/plain": [
       "(1.118033988749895, 0.4636476090008061)"
      ]
     },
     "execution_count": 18,
     "metadata": {},
     "output_type": "execute_result"
    }
   ],
   "source": [
    "cmath.polar(complex(1, 0.5))"
   ]
  },
  {
   "cell_type": "code",
   "execution_count": 16,
   "id": "ee6b0258",
   "metadata": {},
   "outputs": [
    {
     "data": {
      "text/plain": [
       "0.7853981633974483"
      ]
     },
     "execution_count": 16,
     "metadata": {},
     "output_type": "execute_result"
    }
   ],
   "source": [
    "cmath.phase(complex(cmath.sqrt(2) / 4, cmath.sqrt(2) / 4))"
   ]
  },
  {
   "cell_type": "code",
   "execution_count": 19,
   "id": "b1214b17",
   "metadata": {},
   "outputs": [
    {
     "data": {
      "text/plain": [
       "(0.5, 0.7853981633974483)"
      ]
     },
     "execution_count": 19,
     "metadata": {},
     "output_type": "execute_result"
    }
   ],
   "source": [
    "cmath.polar(complex(cmath.sqrt(2) / 4, cmath.sqrt(2) / 4))"
   ]
  },
  {
   "cell_type": "code",
   "execution_count": 20,
   "id": "77ac8a70",
   "metadata": {},
   "outputs": [
    {
     "data": {
      "text/plain": [
       "-0.7853981633974483"
      ]
     },
     "execution_count": 20,
     "metadata": {},
     "output_type": "execute_result"
    }
   ],
   "source": [
    "cmath.phase(complex(cmath.sqrt(2) / 4, -cmath.sqrt(2) / 4))"
   ]
  },
  {
   "cell_type": "code",
   "execution_count": 21,
   "id": "239e43eb",
   "metadata": {},
   "outputs": [
    {
     "data": {
      "text/plain": [
       "(0.5, -0.7853981633974483)"
      ]
     },
     "execution_count": 21,
     "metadata": {},
     "output_type": "execute_result"
    }
   ],
   "source": [
    "cmath.polar(complex(cmath.sqrt(2) / 4, -cmath.sqrt(2) / 4))"
   ]
  },
  {
   "cell_type": "markdown",
   "id": "af2781ac",
   "metadata": {},
   "source": [
    "### Series de Fourier"
   ]
  },
  {
   "cell_type": "code",
   "execution_count": 180,
   "id": "9532bd0d",
   "metadata": {},
   "outputs": [],
   "source": [
    "#from celluloid import Camera -> explorar dpes "
   ]
  },
  {
   "cell_type": "code",
   "execution_count": 245,
   "id": "c0e9ffb3",
   "metadata": {},
   "outputs": [],
   "source": [
    "import seaborn "
   ]
  },
  {
   "cell_type": "code",
   "execution_count": 246,
   "id": "0f27a01e",
   "metadata": {},
   "outputs": [],
   "source": [
    "seaborn.set(style='ticks')"
   ]
  },
  {
   "cell_type": "code",
   "execution_count": 187,
   "id": "39378080",
   "metadata": {},
   "outputs": [],
   "source": [
    "animation = camera.animate()\n",
    "animation.save(\"fourier.gif\")"
   ]
  },
  {
   "cell_type": "code",
   "execution_count": 212,
   "id": "d9b704f6",
   "metadata": {},
   "outputs": [],
   "source": [
    "#def func_6a(x): \n",
    "#    if x <= 0: \n",
    "#        f = 0\n",
    "#    else: \n",
    "#        f = np.pi - x\n",
    "#    return f"
   ]
  },
  {
   "cell_type": "code",
   "execution_count": 200,
   "id": "d42dda55",
   "metadata": {},
   "outputs": [],
   "source": [
    "def fourier_6a(x, n):\n",
    "    f = ((1 - (-1)**n)/(np.pi * n ** 2))* np.cos(n * x) + (1/n)* np.sin(n * x)\n",
    "    return f\n"
   ]
  },
  {
   "cell_type": "code",
   "execution_count": 196,
   "id": "e00ac514",
   "metadata": {},
   "outputs": [
    {
     "data": {
      "text/plain": [
       "<Figure size 432x288 with 0 Axes>"
      ]
     },
     "metadata": {},
     "output_type": "display_data"
    }
   ],
   "source": [
    "#fig = plt.figure()\n",
    "#camera = Camera(fig)"
   ]
  },
  {
   "cell_type": "code",
   "execution_count": 226,
   "id": "20c43162",
   "metadata": {},
   "outputs": [],
   "source": [
    "x = np.linspace(-np.pi, np.pi, 10000)"
   ]
  },
  {
   "cell_type": "code",
   "execution_count": 227,
   "id": "66dba157",
   "metadata": {},
   "outputs": [],
   "source": [
    "x1 = np.linspace(-np.pi, 0, 1000)\n",
    "x2 = np.linspace(0, np.pi, 1000)"
   ]
  },
  {
   "cell_type": "code",
   "execution_count": 228,
   "id": "e6a09485",
   "metadata": {},
   "outputs": [],
   "source": [
    "f = np.pi / 4\n",
    "n = 1 \n",
    "n_total = 100"
   ]
  },
  {
   "cell_type": "code",
   "execution_count": 229,
   "id": "9f14990a",
   "metadata": {},
   "outputs": [],
   "source": [
    "while n < n_total: \n",
    "    f += fourier_6a(x, n)\n",
    "    #plt.plot(x, f)\n",
    "    #camera.snap()\n",
    "    n += 1"
   ]
  },
  {
   "cell_type": "code",
   "execution_count": 248,
   "id": "233c7108",
   "metadata": {},
   "outputs": [
    {
     "data": {
      "image/png": "[encoded data removed]",
      "text/plain": [
       "<Figure size 432x288 with 1 Axes>"
      ]
     },
     "metadata": {},
     "output_type": "display_data"
    }
   ],
   "source": [
    "plt.plot(x, f, 'y', label='Serie de Fourier')\n",
    "plt.plot(x1, [0 for x in x1], 'g', label='y = 0') \n",
    "plt.plot(x2, [np.pi - x for x in x2], 'b', label='y = pi - x' )\n",
    "plt.legend(bbox_to_anchor=(0., 1.02, 1., .102), loc='lower left',\n",
    "           ncol=2, mode=\"expand\", borderaxespad=0.)\n",
    "\n",
    "plt.grid()\n",
    "plt.show()"
   ]
  },
  {
   "cell_type": "code",
   "execution_count": 334,
   "id": "2fde52b2",
   "metadata": {},
   "outputs": [],
   "source": [
    "def fourier_6b(x, n):\n",
    "    f1 =(((-1)**n - 1)/((np.pi ** 2) * (n ** 2)))* np.cos(n* np.pi* x) - (1/(n* np.pi))* np.sin(n* np.pi* x)\n",
    "    return f1"
   ]
  },
  {
   "cell_type": "code",
   "execution_count": 335,
   "id": "ef572c23",
   "metadata": {},
   "outputs": [],
   "source": [
    "f1 = 3/4\n",
    "n = 1 \n",
    "n_total = 100"
   ]
  },
  {
   "cell_type": "code",
   "execution_count": 336,
   "id": "07964e76",
   "metadata": {},
   "outputs": [],
   "source": [
    "x3 = np.linspace(-1, 0,1000)\n",
    "x4 = np.linspace(0, 1, 1000)\n",
    "x5 = np.linspace(-1, 1, 1000)"
   ]
  },
  {
   "cell_type": "code",
   "execution_count": 337,
   "id": "5b51f055",
   "metadata": {},
   "outputs": [],
   "source": [
    "while n < n_total: \n",
    "    f1 += fourier_6b(x5, n)\n",
    "    #plt.plot(x5, f1)\n",
    "    #camera.snap()\n",
    "    n += 1"
   ]
  },
  {
   "cell_type": "code",
   "execution_count": 351,
   "id": "67ade101",
   "metadata": {},
   "outputs": [
    {
     "data": {
      "image/png": "[encoded data removed]",
      "text/plain": [
       "<Figure size 432x288 with 1 Axes>"
      ]
     },
     "metadata": {},
     "output_type": "display_data"
    }
   ],
   "source": [
    "plt.plot(x3,[1 for x in x3], 'g', label = \"f\")\n",
    "plt.plot(x4, [x for x in x4], 'r', label = \"f\")\n",
    "plt.plot(x5, f1, 'orange', label = \"Serie de Fourier\")\n",
    "\n",
    "\n",
    "plt.legend(bbox_to_anchor=(0., 1.02, 1., .102), loc='lower left',\n",
    "           ncol=2, mode=\"expand\", borderaxespad=0.)\n",
    "\n",
    "plt.grid()\n",
    "plt.show()"
   ]
  },
  {
   "cell_type": "code",
   "execution_count": null,
   "id": "93702a18",
   "metadata": {},
   "outputs": [],
   "source": []
  }
 ],
 "metadata": {
  "kernelspec": {
   "display_name": "Python 3 (ipykernel)",
   "language": "python",
   "name": "python3"
  },
  "language_info": {
   "codemirror_mode": {
    "name": "ipython",
    "version": 3
   },
   "file_extension": ".py",
   "mimetype": "text/x-python",
   "name": "python",
   "nbconvert_exporter": "python",
   "pygments_lexer": "ipython3",
   "version": "3.8.5"
  }
 },
 "nbformat": 4,
 "nbformat_minor": 5
}
